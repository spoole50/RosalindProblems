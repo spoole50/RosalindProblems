{
 "cells": [
  {
   "cell_type": "markdown",
   "metadata": {},
   "source": [
    "# ROSALIND Problems\n",
    "## Bioinformatics Problem Solving"
   ]
  },
  {
   "cell_type": "markdown",
   "metadata": {},
   "source": [
    "### Counting DNA Nucleotides\n",
    "#### Molecular Biology\n",
    "Cell = building block of life<br>\n",
    "* Eukaryotic cells = cells that have nucleus enclosed within membranes. (Mammals, plants, multi-cellular organisms)\n",
    "* Prokaryotic cells = single celled organisms, lacks a membrane-bound nucleus, mitochondria, or any other membrane-bound organelle. (Bacteria, Archaea)\n",
    "\n",
    "Nucleus within eukaryotic cells = hub of cellular activity<br>\n",
    "Nucleus made up of chromatin<br>\n",
    "During mitosis (cell division) chromatin condenses into chromosomes<br>\n",
    "\n",
    "Nucleic Acid is one component of chromatin, forms strands (long and thin) of polymer units from monomer <b>nucleotides</b>\n",
    "![title](https://upload.wikimedia.org/wikipedia/commons/d/d3/0322_DNA_Nucleotides.jpg)\n",
    "###### Nucleotide made of 3 parts:\n",
    "* Negatively charged phosphate ion\n",
    "    * PO<sub>4</sub>\n",
    "* Sugar molecule\n",
    "   * Deoxyribose\n",
    "       * monosaccharide\n",
    "       * 5 carbon ring\n",
    "* Nucleobase (base)\n",
    "    * Adenine\n",
    "        * Purine (Double Ring)\n",
    "        * Bonds thymine (DNA), uracil (RNA)\n",
    "    * Thymine\n",
    "        * Pyrimidine (Single Ring)\n",
    "        * Bonds adenine, replaced by uracil in RNA\n",
    "    * Guanine\n",
    "        * Purine\n",
    "        * Bonds cytosine\n",
    "    * Cytosine\n",
    "        * Pyrimidine (Single Ring)\n",
    "        * Bonds guanine\n",
    "\n",
    "<p>Polymerization occurs as the sugar of one nucleotide bonds to the phosphate of the next nucleotide, forming sugar-phosphate backbone\n",
    "Ordering of bases defines nucleic acid primary structure</p>\n",
    "\n",
    "###### Genome = sum total of the DNA contained within an organisms chromosomes"
   ]
  },
  {
   "cell_type": "markdown",
   "metadata": {},
   "source": [
    "<b>Code Problem:</b><br>\n",
    "A string is simply an ordered collection of symbols selected from some alphabet and formed into a word; the length of a string is the number of symbols that it contains.\n",
    "\n",
    "An example of a length 21 DNA string (whose alphabet contains the symbols 'A', 'C', 'G', and 'T') is \"ATGCTTCAGAAAGGTCTTACG.\"\n",
    "\n",
    "Given: A DNA string s of length at most 1000 nt.\n",
    "\n",
    "Return: Four integers (separated by spaces) counting the respective number of times that the symbols 'A', 'C', 'G', and 'T' occur in s."
   ]
  },
  {
   "cell_type": "code",
   "execution_count": 14,
   "metadata": {},
   "outputs": [
    {
     "name": "stdout",
     "output_type": "stream",
     "text": [
      "{'C': 202, 'G': 210, 'A': 198, 'T': 195}\n",
      "[198, 202, 210, 195]\n"
     ]
    }
   ],
   "source": [
    "with open(\"./dataFiles/rosalind_dna.txt\", \"r\") as inFile:\n",
    "    data = inFile.readlines()\n",
    "    seq = data[0].rstrip()\n",
    "    baseCount = {}\n",
    "    for base in seq:\n",
    "        if base in baseCount:\n",
    "            baseCount[base] += 1\n",
    "        else:\n",
    "            baseCount[base] = 1\n",
    "    print(baseCount)\n",
    "    res = [baseCount['A'], baseCount['C'], baseCount['G'], baseCount['T']]\n",
    "    print(res)"
   ]
  },
  {
   "cell_type": "markdown",
   "metadata": {},
   "source": [
    "### Transcribing DNA into RNA\n",
    "###### RNA\n",
    "Another nucleic acid that exists within chromatin<br>\n",
    "Possesses ribose sugar<br>\n",
    "Contains Uracil instead of thymine<br>\n",
    "Single Stranded<br>\n",
    "\n",
    "###### Varieties of RNA molecules:\n",
    "\n",
    "* [DNA]--transcribed by RNA polymerase->[pre-mRNA]--splicing->[mRNA]--translation->[Protein]\n",
    "* tRNA, clover leaf shaped with amino acid on one end and anti-codon (3 RNA nucleotides) at the other end. Serving as a template for translating"
   ]
  },
  {
   "cell_type": "markdown",
   "metadata": {},
   "source": [
    "<b>Code Problem:</b><br>\n",
    "An RNA string is a string formed from the alphabet containing 'A', 'C', 'G', and 'U'.\n",
    "\n",
    "Given a DNA string t corresponding to a coding strand, its transcribed RNA string u is formed by replacing all occurrences of 'T' in t with 'U' in u.\n",
    "\n",
    "Given: A DNA string t having length at most 1000 nt.\n",
    "\n",
    "Return: The transcribed RNA string of t."
   ]
  },
  {
   "cell_type": "code",
   "execution_count": 15,
   "metadata": {},
   "outputs": [
    {
     "name": "stdout",
     "output_type": "stream",
     "text": [
      "GUAAGUCCCUGGGUAUAAUUCGUUACGUUAGCUCUCCAUGUAGCAAGGAGGCUCGUAACGCGUUAGACGUGUUAAAACUCCUCCGUUAAAGGUUGAAGAAAUAUGAGUCAUUGGUUAGCGUCCCUAUUGAAGACUGCAUGUGAUGGAUGGACUCAAAAUGUCUCACGGGCCAAACUUUAUAUCAAUCCUUCCAUCCAUGUUACUUAAACCACGCGACUGCGUUGUUCCGUUGGGCGUUACCUACGUAUUGCGGUCGACGUGACUACUGGAUACAUGGGGAUACGCUUCGCCUUAAGGGAGUUACAGUUCGGAUACUAACGAACGAUCGCCCUUACUAGCUCUUGGGAGAACACCAUAGAAUGACCUCUAGUCGACACAUAUGAACGCAGCGGGCGUUUCACCUAACAACGCCGAACAUUGCUCCCCAUAUUCAUUAUAUACCGCGAUGGACCAACAGCCGGAUCCUUGCAGAUUGUGAAUCGGCUCACGUAUCACCUGAUGAUAUUUCGCCGUGACUCCCAAACUGGGAUAAACGGGCUUCGAGAGAGAAUUGAUAACCGGCCUAUAGUUGGUAGGAGGAUGAGACCGAGCCGCCCUCAAGAAAGAACCAGUCAUGACCAGCCAUUAUUUUAGGCCCUAACUUCGUCUUAAACACGGAAGCGACAACCAGCAGGCUGCCGGAUCGGGUCUCUUUCGACACCGUACAGAGAUUUGCAUCUGAUAUGAACAGGGUUUGUGCGCCGGUGCCUCUAGGUCACGCAAGAGACAACACCUGUACCGGGGCGCACAGAUUUUACGGUUCUGUACUGGAUUUUGUCGUCUCUCUCUUCGUUCCACUUUGCAUACUGCCUCCCGAUUGUGUACCUACAGUAGCUGCCGUAUGACUAACAUCCGAAGAACUCAAUAGAACUCCCGAUUAC\n"
     ]
    }
   ],
   "source": [
    "with open(\"./dataFiles/rosalind_rna.txt\") as inFile:\n",
    "    data = inFile.readlines()\n",
    "rSeq = data[0].rstrip().replace('T', 'U')\n",
    "print (rSeq)"
   ]
  },
  {
   "cell_type": "markdown",
   "metadata": {},
   "source": [
    "### Complementing a Strand of DNA\n",
    "###### DNA Structure\n",
    "<!--\n",
    "![title](img/DNA_Struct.PNG)\n",
    "-->\n",
    "\n",
    "<img src=\"img/DNA_Struct.PNG\" height=500 width=500>\n",
    "\n",
    "1. Two-Stranded\n",
    "2. Complementing Bases (AT, GC), base pairs\n",
    "3. Double Helix"
   ]
  },
  {
   "cell_type": "markdown",
   "metadata": {},
   "source": [
    "<b>Coding Problem</b><br>\n",
    "In DNA strings, symbols 'A' and 'T' are complements of each other, as are 'C' and 'G'.\n",
    "\n",
    "The reverse complement of a DNA string s is the string sc formed by reversing the symbols of s, then taking the complement of each symbol (e.g., the reverse complement of \"GTCA\" is \"TGAC\").\n",
    "\n",
    "Given: A DNA string s of length at most 1000 bp.\n",
    "\n",
    "Return: The reverse complement sc of s."
   ]
  },
  {
   "cell_type": "code",
   "execution_count": 26,
   "metadata": {
    "scrolled": true
   },
   "outputs": [
    {
     "name": "stdout",
     "output_type": "stream",
     "text": [
      "TGACCTCGAGATCCAGTACTTGGAATCGCAAGTGGAGTTTGAACCTCGTCCAAAGACCAATATTGGACCAACGTAATTTTTCCGGGTAAATAGTGTGAGCGGTGAAACCCACTCGGGGGAGTTGTGATATAGATCCCATGCGCATGTCCTATGATAATGGTGGGTTGAGTTAACCACATGAAAAACCGGATGGTCTTACCCGACTCTTCGCCTTCATGGGAACGAAGCTCTGGCCAGGTGGCCTTAACTCCCAGGTCACACTCTTATTCACCAAATGTTTTCCTTATCTTCATTGAGGTGCCTACTTTCCTCGCGTACCCTCTCACTGGCGGAACTGGCTACCTGTCAGTTACCTCTGTCGTAAGGTGGGAAAGCGATTCACATCGCTAAACCGTAAGGATTCGCGCCGCGGGGCGCGCACGTGCCACAGTCCTCTATGTCATTTAGCCGTGGAGGGAAAAGCTACGTGAACCGCCGTGTAAACGTCTACGCGGTTTGGATACCTTACTTATGTGATGGTGTTCGTTGGTTTAATCATTTCCACGTCTCTGAAAGAGCGAGGGATAAGGGCCATATCGCAGCAGTGACGCTTCAGTGGAAAGTCCCGTCGATCTTATTCAACGCGGTACCGTCAGCGAAGGCATGCGCGTCCCGCTACAGATGAGGACGGCCGTCGAGCGTCCGAAGAAACTGCTAGGTACCTGCTTTACCATTCCTGGGTCCAGTTACCATGGCGCGGTACTTGAAGTCCAATGTTTGTCAGAGAACGTGGGGTAAACGGTAACAGACCCTTCTGGACACGAGCTACGCGGCATTTCATCGCAAGTGGCATGGATCCTCTCGCTGGGTTCCCTTCTGGACGCGCCCGAAGATTCGTTGCACGCTACCAGTCTACACTCTCACGTATCCTTGGGTTCCGGCTGTGGCCTCTCAAGACCCCGATCAGTCCCGAGCG\n"
     ]
    }
   ],
   "source": [
    "baseComp = {\n",
    "    'A':'T',\n",
    "    'T':'A',\n",
    "    'G':'C',\n",
    "    'C':'G'\n",
    "}\n",
    "with open (\"./dataFiles/rosalind_revc.txt\") as inFile:\n",
    "    data = inFile.readlines()\n",
    "    dna = data[0].rstrip()\n",
    "    dnaComp = ''\n",
    "    for base in dna:\n",
    "        dnaComp += baseComp[base]\n",
    "    dnaComp = dnaComp[::-1]\n",
    "    print(dnaComp)"
   ]
  },
  {
   "cell_type": "markdown",
   "metadata": {},
   "source": [
    "### Rabbits and Recurrence Relations\n",
    "<b>Coding Problem:</b><br>\n",
    "A sequence is an ordered collection of objects (usually numbers), which are allowed to repeat. Sequences can be finite or infinite. Two examples are the finite sequence (π,−2–√,0,π) and the infinite sequence of odd numbers (1,3,5,7,9,…). We use the notation a(n) to represent the n-th term of a sequence.\n",
    "\n",
    "A recurrence relation is a way of defining the terms of a sequence with respect to the values of previous terms. In the case of Fibonacci's rabbits from the introduction, any given month will contain the rabbits that were alive the previous month, plus any new offspring. A key observation is that the number of offspring in any month is equal to the number of rabbits that were alive two months prior. As a result, if Fn represents the number of rabbit pairs alive after the n-th month, then we obtain the Fibonacci sequence having terms Fn that are defined by the recurrence relation Fn=Fn−1+Fn−2 (with F1=F2=1 to initiate the sequence). Although the sequence bears Fibonacci's name, it was known to Indian mathematicians over two millennia ago.\n",
    "\n",
    "When finding the n-th term of a sequence defined by a recurrence relation, we can simply use the recurrence relation to generate terms for progressively larger values of n. This problem introduces us to the computational technique of dynamic programming, which successively builds up solutions by using the answers to smaller cases.\n",
    "\n",
    "Given: Positive integers n≤40 and k≤5.\n",
    "\n",
    "Return: The total number of rabbit pairs that will be present after n months, if we begin with 1 pair and in each generation, every pair of reproduction-age rabbits produces a litter of k rabbit pairs (instead of only 1 pair)."
   ]
  },
  {
   "cell_type": "code",
   "execution_count": 42,
   "metadata": {},
   "outputs": [
    {
     "name": "stdout",
     "output_type": "stream",
     "text": [
      "75025\n"
     ]
    }
   ],
   "source": [
    "def repro(n, k):\n",
    "    pairs = [1,1]\n",
    "    for i in range(2, n):\n",
    "        pairs.append(pairs[i-2] * k + pairs[i-1])\n",
    "    return (pairs[-1])\n",
    "\n",
    "\n",
    "months = 25\n",
    "offspring = 1\n",
    "total = repro(months, offspring)\n",
    "print(total)"
   ]
  },
  {
   "cell_type": "markdown",
   "metadata": {},
   "source": [
    "### Mortal Fibonacci Rabbts"
   ]
  },
  {
   "cell_type": "code",
   "execution_count": 77,
   "metadata": {},
   "outputs": [
    {
     "name": "stdout",
     "output_type": "stream",
     "text": [
      "[[0, 1], [1, 0], [1, 1], [2, 2], [4, 4], [8, 8]]\n"
     ]
    }
   ],
   "source": [
    "# [0,1] [1,0] [1,1] [1,1] [2,1] [2,2]\n",
    "def reproV2(n, m):\n",
    "    pairs = [[0,1],[1,0]]\n",
    "    for i in range(2, n):\n",
    "        pair_set = [sum(pairs[i-1]), sum(pairs[i-1])]\n",
    "        pairs.append(pair_set)\n",
    "    return (pairs)\n",
    "\n",
    "print(reproV2(6,3))"
   ]
  },
  {
   "cell_type": "markdown",
   "metadata": {},
   "source": [
    "### Computation GC Content\n",
    "<b>Coding Problem:</b><br>\n",
    "The GC-content of a DNA string is given by the percentage of symbols in the string that are 'C' or 'G'. For example, the GC-content of \"AGCTATAG\" is 37.5%. Note that the reverse complement of any DNA string has the same GC-content.\n",
    "\n",
    "DNA strings must be labeled when they are consolidated into a database. A commonly used method of string labeling is called FASTA format. In this format, the string is introduced by a line that begins with '>', followed by some labeling information. Subsequent lines contain the string itself; the first line to begin with '>' indicates the label of the next string.\n",
    "\n",
    "In Rosalind's implementation, a string in FASTA format will be labeled by the ID \"Rosalind_xxxx\", where \"xxxx\" denotes a four-digit code between 0000 and 9999.\n",
    "\n",
    "Given: At most 10 DNA strings in FASTA format (of length at most 1 kbp each).\n",
    "\n",
    "Return: The ID of the string having the highest GC-content, followed by the GC-content of that string. Rosalind allows for a default error of 0.001 in all decimal answers unless otherwise stated; please see the note on absolute error below."
   ]
  },
  {
   "cell_type": "code",
   "execution_count": 24,
   "metadata": {},
   "outputs": [
    {
     "name": "stdout",
     "output_type": "stream",
     "text": [
      "Rosalind_4458\n",
      "52.489627%\n"
     ]
    }
   ],
   "source": [
    "with open(\"./dataFiles/rosalind_gc.txt\") as inFile:\n",
    "    data = inFile.readlines()\n",
    "    gcDict = {}\n",
    "\n",
    "#     fastaDna = [\">Test\",\"AGCTATAG\"]\n",
    "    fastaDna = []\n",
    "    for i in range(len(data)):\n",
    "        if data[i][0] == '>':\n",
    "            fastaDna.append(data[i].rstrip())\n",
    "            i += 1\n",
    "            temp = ''\n",
    "            while(i < len(data) and data[i][0] != '>'):\n",
    "                temp += data[i].strip()\n",
    "                i += 1\n",
    "            fastaDna.append(temp)\n",
    "       \n",
    "    for sqData in fastaDna:\n",
    "        if sqData[0] == '>':\n",
    "            temp = sqData[1:].rstrip()\n",
    "            gcDict[temp] = []\n",
    "        else:\n",
    "            if temp:\n",
    "                gc = float((sqData.count('G') + sqData.count('C'))/len(sqData)*100)\n",
    "                gcDict[temp].append(gc)\n",
    "    mxName = \"\"\n",
    "    mxGC = 0.0\n",
    "    for info in gcDict:\n",
    "        for seq in gcDict[info]:\n",
    "            if seq > mxGC:\n",
    "                mxName = info\n",
    "                mxGC = seq\n",
    "    print (\"{0:s}\\n{1:f}%\".format(mxName,mxGC))\n",
    "     \n",
    "        "
   ]
  },
  {
   "cell_type": "markdown",
   "metadata": {},
   "source": [
    "### Counting Point Mutations\n",
    "##### Mutation:\n",
    "Mistake in nucleic acid copy<br>\n",
    "In rare cases beneficial<br>\n",
    "Macro effects of evolution are attributable to accumulated result of beneficial mutation over many generations\n",
    "\n",
    "1. Point Mutation\n",
    "<br>One base replacement at single nucleotide site, changes complementary base accordingly<br>\n",
    "\n",
    "Homologous if they share a recent ancestor<br>\n",
    "Counting the number of bases at which homologous strands differ provides minimum number of point mutations that occurred along the evolutionary path"
   ]
  },
  {
   "cell_type": "markdown",
   "metadata": {},
   "source": [
    "<b>Coding Problem:</b><br>\n",
    "Given two strings s and t of equal length, the Hamming distance between s and t, denoted dH(s,t), is the number of corresponding symbols that differ in s and t. See Figure 2.\n",
    "\n",
    "Given: Two DNA strings s and t of equal length (not exceeding 1 kbp).\n",
    "\n",
    "Return: The Hamming distance dH(s,t)."
   ]
  },
  {
   "cell_type": "code",
   "execution_count": 1,
   "metadata": {},
   "outputs": [
    {
     "name": "stdout",
     "output_type": "stream",
     "text": [
      "450\n"
     ]
    }
   ],
   "source": [
    "with open(\"./dataFiles/rosalind_hamm.txt\") as inFile:\n",
    "    data = inFile.readlines()\n",
    "    seq1 = data[0].strip()\n",
    "    seq2 = data[1].strip()\n",
    "\n",
    "    if len(seq1) == len(seq2):\n",
    "        ham = 0\n",
    "        for i in range(len(seq1)):\n",
    "            if seq1[i] != seq2[i]:\n",
    "                ham += 1\n",
    "    print (ham)"
   ]
  },
  {
   "cell_type": "markdown",
   "metadata": {},
   "source": [
    "### Mendel's First Law\n",
    "19th century Blending Inheritance = organism must exhibit a blend of its parents traits, overtime averaging\n",
    "\n",
    "Mendel working with pea plants, thought traits not as continuous processes, but discrete building blocks called factors. Every factor has distinct forms called alleles\n",
    "\n",
    "##### 1st Law (Law of Segregation)\n",
    "   Every organism has a pair of alleles for a given factor.\n",
    "* Homozygous = Two alleles are the same for a given factor\n",
    "* Heterozygous = Two alleles differ for a given factor\n",
    "* One random allele from each parent for offspring\n",
    "\n",
    "##### Dominant vs Recessive Alleles\n",
    "   Only needs one copy of Dominant to express trait represented by dominant allele. Recessive only shows if organism is homozygous recessive.\n",
    "   \n",
    "Genotype = precise genetic makeup<br>\n",
    "Phenotype = physical manifestation trait of underlying traits\n",
    "\n",
    "<b>Coding Problem:</b><br>\n",
    "\n",
    "Given: Three positive integers k, m, and n, representing a population containing k+m+n organisms: k individuals are homozygous dominant for a factor, m are heterozygous, and n are homozygous recessive.\n",
    "\n",
    "Return: The probability that two randomly selected mating organisms will produce an individual possessing a dominant allele (and thus displaying the dominant phenotype). Assume that any two organisms can mate."
   ]
  },
  {
   "cell_type": "code",
   "execution_count": 18,
   "metadata": {},
   "outputs": [
    {
     "name": "stdout",
     "output_type": "stream",
     "text": [
      "0.70513\n"
     ]
    }
   ],
   "source": [
    "homoDom = 20\n",
    "hetero = 20\n",
    "homoRec = 26\n",
    "total = homoDom + hetero + homoRec\n",
    "AaAa = (hetero/total) * ((hetero-1)/(total-1)) * .25\n",
    "Aaaa = (hetero/total) * (homoRec/(total-1)) * .5 * 2\n",
    "aaaa = (homoRec/total) * ((homoRec-1)/(total-1))\n",
    "\n",
    "res = aaaa + AaAa + Aaaa\n",
    "print(round(1-res,5))"
   ]
  },
  {
   "cell_type": "markdown",
   "metadata": {},
   "source": [
    "### Translating RNA into Protein\n",
    "##### Proteins\n",
    "\n",
    "Polymer chains (polypeptide) of monomer amino acids<br>\n",
    "Primary structure = amino acids<br>\n",
    "Ribosome utilizes tRNA to transcribe mRNA into peptide chain\n",
    "\n",
    "\n",
    "<b>Coding Problem:</b><br>\n",
    "The 20 commonly occurring amino acids are abbreviated by using 20 letters from the English alphabet (all letters except for B, J, O, U, X, and Z). Protein strings are constructed from these 20 symbols. Henceforth, the term genetic string will incorporate protein strings along with DNA strings and RNA strings.\n",
    "\n",
    "The RNA codon table dictates the details regarding the encoding of specific codons into the amino acid alphabet.\n",
    "\n",
    "Given: An RNA string s corresponding to a strand of mRNA (of length at most 10 kbp).\n",
    "\n",
    "Return: The protein string encoded by s."
   ]
  },
  {
   "cell_type": "code",
   "execution_count": 1,
   "metadata": {},
   "outputs": [
    {
     "name": "stdout",
     "output_type": "stream",
     "text": [
      "MVISGITALADIHTIRTRMRNGLRSVRISPHSLILNFVGGNGKPGDICCRRGARNARVPNWQAASRFPPYNRESESEFSLMNSRRRAHLVRVRHSIRPVEDVIGLLLPIREREHILDNDNSVRTKFAVGSVTEPTYGEADSWIRTQIFRPLCIRNRQCLRLPFFDRSATKMASPLSLRVFNNFRPHYAHSLGAPPSTVYLVRRNVLTGPAILGSDEGAENAECKHLDLQLALPPAFTSSPSPIQEVSVTKLAISVASSNKGLPFLCKRYHNRGIMKWSLMLHLVHLGNRMTPALVYWCTSLPSYPSDVVNVALGWEILFLTLDDRYFSSLRGKEDCTSHLHLWWQPERNLNTGIEVQMAHQWSNAQYVDQEIFLYKRTPLTLTHLCGKQPCKCCVFNLSHRIGVGAPTRFKFRVRLYLPVCRRNGAATWKIVRGRARPCPKYFPSYRGSAGGAVDHTWWFFSRFCRASQKYDRGSMRALRYKSSVVGQKHWSIPPEAAQGLLLKYWSPHTCCSFFSPLLNKGIACIIQLSTSPVCDLGPGFTGPPLAQVMRLRWRFHLLAPKEPLNGRLFVYSNKAVRDICTHFCDQLPAIAKLPLMPFPFPTALTRDGLILSSSSLQNDMPRVPTRYWCRQSTSRSLDLFCLVNHGLIKTWGRDTNPGPSFMGTLLPNPALTKPRARYSGKRMPGEMRYNDEPKQYLPECWGKPLIHRVCLPPTSTNRPVGYQNPKKRKCLGAYKTNMSKGERIVSRAHIKPSGHRNIVLTPSCQCSTADLQCEPFYRRYPGGDVALPRDNSNKTFQLKGTNNLPSGHGRCYVPRSLSKTQRSKLPCEVLKRVAVFACDLHGVLQSCQPCLPIRSLHPRCRITRTQTVGRTSDSLSGLGGQMKLYFAFRCPPLYEIGLNEFCDVRWHWRRLRCLLRYDNRSCCSLQNVSCMLVYCGGAFLGSALFLQTGGKLNRLLKDRITKELMPFTLLLFCKLGCIHLFLSRPLGGSCAICPVSPDNNSDIYITDKTISLSKLPNGPCTMGSCTNLGVVEVIEARRKIDYVHLYSITDRKRNGLRGSLTSLRSLIEAIHLCGNEEIKGYTGLRSRLDRVHRCSPSLASKAGHRSLTREPIRKCPDGCGWAFAATMRNKAARKFMGAAGNDLIGIAFTPGQGHEMSEDRWEYSVAPIRYQGCEVKILEDTRVTSRITLSLYGCDSLATSVITVVNPFLSLYHAYLHNCAMYWCLCKCPSDQQSRLLGLCASSTQSGMKRTYCGSDSIPALLRFRKRYDWYPQWFSIRTRARFSQLLGSLFSVREILRPMCNSGCDEIVRVRAGRRKVTGIVRRPNSGVLTHPLNVEQSAPFVRVPALIKVTNKTSPEITSAAPKSGFNRLQPEPAGPCDRQEAYGFPMSSFQWTTSVQRETRANSPLVSCVARTPHTGSKPRIFFTMLHVQQQPANDGPRQSSTWGSPTRNAGLLVKSACVKRASKYKFQRLIKVCVVIDFACGCSLYSGFTEKDELKRSSWLDPWQLMGTLSQLWASEPLVYCIPSTRRTLLSIRQLHQYYTGAPCPQTSNGASLVSRVSRSTRSVWSLTHRHTTPNSPRFVARDCASFLKPSWRIRREDLKRDVYDLTIMEYLPDGATFILVYLYSLMCIPEYQKRYSASRLHHPQGYTSDPYEEWATARNQEGNYIDLKRLRRRRLGKTCRPILQGQYGALVPLVNTGWDRLRRSNCRYFLRPRREPLTHRLRSGLCYGSQSILELHMYRWGRNGGLKYLHYRHISESPSHLWCITEHRTLHATWGIPDTLPTSMRNSQLLLDTRLPRGISGWPDRYRKYDPLSHLSHFTIPSLYSPVMSANPSEANIPAYAYGGRHNPSALNYTRFSLDSLALPSTGSHIRMCCTLNRPSVAAGTPPLGTLVTIYFPRITGTLKVHHTIYVLLPGAVAGPRLSSKLVILQSCSYKWGVTSIVNPNPTLEQRRKCHEVHNVEGLFKVLRGYEGAPLRTLIVTKLSRLVSHSDGSTAIPFLRRVRTVACPRSSSVGCINALGLSQFIIMYRMHSEGYIASTRWALSPRVCGQSPVAVFNSAPVTLPCGTGPNIVCVLGSLACLFNSRAMGDCAGIATIVREAIPLGPRISAPCGVLTRFPIKFKCHWVQRHCVYKLDCGITARPSIRWHLITVSVPLYITEFTCRLSGAWKTILTHFHGRARFVHVLQNSSKHNQNCSRSVPSHNDKLPVLRHPGKCPRQSIRRSLARMGTKTELGPAKQLQTKSIQVTFNSSIYMPRAHCTPYSDSTVEGPASLKGRTISHVMGGSMDFNGMCLTKARRREITVLHGWRIRPSGSAKRRQSGLLRKPYVHPGLTLVVKYVWAFGSGWWIKRRVAVLCGRQAPFGTRLYGARPSAIIPARRKCSLVYTPGSRYMVTITSYPESWLIIDPRGESQAHLIVGGVHLQGRWREGGVRCDGHRTLSFRFIGQRFRLRDPKLCPHIEHIWALANRVDMVYPGIDRGGSTVFSKSYTRRSTPVYGHRVFRSQAQLWGLSVLPNIRSMLTGVKSLRCCFLTGFVNCQCLSSLHNFSWWETNLKSRLAIVNSGSYYQFRVSSSGGIYPCEIPRMLFLFHHMYPLPRIPYGSVRMLVRVMHSEFQGANTLPPIATNNLGHPPFLGTTSLIAPVRASSGARSRDHDTLLPAGFSGFDWRKLASASVISPIHPLLRPLTLLSLYTSSLEAVPGSWFTIHAFFLTISCYSSLLESVVARTSPSGVQYALKITGFDVRSLLETKNPSSMWDGDFDLQCVCLAAPDGPFVRESASLLSNLQQENLSLAGELVCRSLTSGKHVRTCHNGHHVSLSASRSMENPNHRSVACLWSGCATYIFVTLRDHLRILLKPFVYSIVVMVICEPHLSR\n"
     ]
    }
   ],
   "source": [
    "with open('./dataFiles/rnaToAmino.txt') as inFile, open('./dataFiles/rosalind_prot.txt') as rnaFile:\n",
    "    data = inFile.readlines()\n",
    "    codon = {}\n",
    "    for lines in data:\n",
    "        lines = lines.rstrip().split('   ')\n",
    "        for cod in lines:\n",
    "            if cod != '':\n",
    "                codon[cod[:3]] = cod[4:]\n",
    "    \n",
    "    data = rnaFile.readlines()\n",
    "    rna = data[0].rstrip()\n",
    "    i = 0\n",
    "    res = ''\n",
    "    while i < len(rna) - 1:\n",
    "        if codon[rna[i:i+3]] == 'Stop':\n",
    "            break\n",
    "        else:\n",
    "            res += codon[rna[i:i+3]]\n",
    "        i += 3\n",
    "    print(res)\n",
    "    "
   ]
  },
  {
   "cell_type": "markdown",
   "metadata": {},
   "source": [
    "### Finding a Motif in DNA\n",
    "###### Motif\n",
    "\n",
    "commonly shared interval of DNA, suggestive of similar function\n",
    "\n",
    "Complicated by repeats, interval that appears often with minor changes\n",
    "* Most common human repeat = Alu repeat\n",
    "\n",
    "<b>Coding Problem:</b><br>\n",
    "Given two strings s and t, t is a substring of s if t is contained as a contiguous collection of symbols in s (as a result, t must be no longer than s).\n",
    "\n",
    "The position of a symbol in a string is the total number of symbols found to its left, including itself (e.g., the positions of all occurrences of 'U' in \"AUGCUUCAGAAAGGUCUUACG\" are 2, 5, 6, 15, 17, and 18). The symbol at position i of s is denoted by s[i].\n",
    "\n",
    "A substring of s can be represented as s[j:k], where j and k represent the starting and ending positions of the substring in s; for example, if s = \"AUGCUUCAGAAAGGUCUUACG\", then s[2:5] = \"UGCU\".\n",
    "\n",
    "The location of a substring s[j:k] is its beginning position j; note that t will have multiple locations in s if it occurs more than once as a substring of s (see the Sample below).\n",
    "\n",
    "Given: Two DNA strings s and t (each of length at most 1 kbp).\n",
    "\n",
    "Return: All locations of t as a substring of s."
   ]
  },
  {
   "cell_type": "code",
   "execution_count": 76,
   "metadata": {},
   "outputs": [
    {
     "name": "stdout",
     "output_type": "stream",
     "text": [
      "1 62 91 106 125 163 170 221 250 282 330 337 352 481 488 557 597 705 720 748 755 791 798 805 823 860 867 "
     ]
    }
   ],
   "source": [
    "def motifFind(seq, mot):\n",
    "    start = 0\n",
    "    while True:\n",
    "        start = seq.find(mot, start)\n",
    "        if start == -1: return\n",
    "        yield start + 1\n",
    "        start += 1\n",
    "with open('./dataFiles/rosalind_subs.txt') as inFile:\n",
    "    data = inFile.readlines()\n",
    "    s = data[0].rstrip()\n",
    "    t = data[1].rstrip()\n",
    "    motifLoc = list(motifFind(s, t))\n",
    "    for x in motifLoc:\n",
    "        print(x, end=\" \")"
   ]
  },
  {
   "cell_type": "markdown",
   "metadata": {},
   "source": [
    "### Calculating Protein Mass\n",
    "##### Building Proteins: Polypeptides, Chaining of Amino Acids\n",
    "Linking amino acids together with peptide bonds:<br>\n",
    "Peptide bond formed through dehydration reaction hydroxyl (OH) group from one amino acid paired with hydrogen from another amino acid. Water molecule forms leaving remaining molecules to form covalent bond between the two amino acids lengthening the polypeptide chain.<br>\n",
    "\n",
    "Chain with n amino acids has had n-1 water molecules removed<br>\n",
    "Residue is a amino acid with removed water, in a protein all AAs are residues expect for the terminus AAs.<br>\n",
    "Mass of a protein in sum of all residues plus the mass of a single water molecule\n",
    "\n",
    "<b>Coding Problem:</b><br>\n",
    "In a weighted alphabet, every symbol is assigned a positive real number called a weight. A string formed from a weighted alphabet is called a weighted string, and its weight is equal to the sum of the weights of its symbols.\n",
    "\n",
    "The standard weight assigned to each member of the 20-symbol amino acid alphabet is the monoisotopic mass of the corresponding amino acid.\n",
    "\n",
    "Given: A protein string P of length at most 1000 aa.\n",
    "\n",
    "Return: The total weight of P. Consult the monoisotopic mass table."
   ]
  },
  {
   "cell_type": "code",
   "execution_count": 8,
   "metadata": {},
   "outputs": [
    {
     "name": "stdout",
     "output_type": "stream",
     "text": [
      "95419.11\n"
     ]
    }
   ],
   "source": [
    "aminoMass = {\n",
    "    'A':71.03711, 'C':103.00919, 'D':115.02694, 'E':129.04259,\n",
    "    'F':147.06841, 'G':57.02146, 'H':137.05891, 'I':113.08406,\n",
    "    'K':128.09496, 'L':113.08406, 'M':131.04049, 'N':114.04293,\n",
    "    'P':97.05276, 'Q':128.05858, 'R':156.10111, 'S':87.03203,\n",
    "    'T':101.04768, 'V':99.06841, 'W':186.07931, 'Y':163.06333 \n",
    "}\n",
    "\n",
    "with open(\"./dataFiles/rosalind_prtm.txt\") as inFile:\n",
    "    data = inFile.readlines()\n",
    "    mass = 0.0\n",
    "    for aa in data[0].rstrip():\n",
    "        mass += aminoMass[aa]\n",
    "    print (round(mass, 3))"
   ]
  },
  {
   "cell_type": "markdown",
   "metadata": {},
   "source": [
    "### Consensus and Profile\n",
    "\n",
    "A matrix is a rectangular table of values divided into rows and columns. An m×n matrix has m rows and n columns. Given a matrix A, we write Ai,j to indicate the value found at the intersection of row i and column j.\n",
    "\n",
    "Say that we have a collection of DNA strings, all having the same length n. Their profile matrix is a 4×n matrix P in which P1,j represents the number of times that 'A' occurs in the jth position of one of the strings, P2,j represents the number of times that C occurs in the jth position, and so on (see below).\n",
    "\n",
    "A consensus string c is a string of length n formed from our collection by taking the most common symbol at each position; the jth symbol of c therefore corresponds to the symbol having the maximum value in the j-th column of the profile matrix. Of course, there may be more than one most common symbol, leading to multiple possible consensus strings.\n",
    "\n",
    "Given: A collection of at most 10 DNA strings of equal length (at most 1 kbp) in FASTA format.\n",
    "\n",
    "Return: A consensus string and profile matrix for the collection. (If several possible consensus strings exist, then you may return any one of them.)"
   ]
  },
  {
   "cell_type": "code",
   "execution_count": 41,
   "metadata": {},
   "outputs": [
    {
     "name": "stdout",
     "output_type": "stream",
     "text": [
      "GAAGGTACAATGAGGCCAAAGACCTCAGCCCCCAACAAGGCGTTTGAAGTATCAAACGATAGCGGACTCCCACGCCCAAAAAAAGAAACTAAAGACACTCGAAACGTGTCTTAAGTCGAAGACTGGCCTCGATCATCTCCTAGTGACAGGAATCCACGAGAGTGGGTTAAAAAGTAGTTTGGCGTTGAATGAAAATGCGGAATTGCTGAGCCAACAAATCCGCTACATGTACGTTACATCGGATCATTAGTTCATAACAATTAATGGGAGCGAAGAATCGCACAACAACAAAGGGCGCGCTACAGGGACAAACTACACTGCAACACCCCGGAATCACAAACTCGCGAAACACACACTCAGGTATAACGCGGAACCTAGATACATCGTCGAGGTCTGAATAGACAAATGACGACAAACCCTATTTGATCCGAACGCATCCGAGTAATACATGGGACCCGGTCATAAACATTGACCAAGATAGGCCGCTGACGAGGGGTGCCAACAAAGATTGCGGGAACCATCCGCAGTTCCGCCGCCCCAAGTTCAAATCTAATGCCAAAAAACCCAAAGGAGGAGGCTGCGAAAAGTTACAAAGACAAATCGTACGGTGAACCGATAACGCGACACGCGGTCACATCCCGCGATGGAACGCGCGCCTGCAAAACACTAAGCAAGATGGAAACACACGAGGCAACGACAAAATAATAACTAGATGGGCTCCTCAAACGTAAGAGGAGGACATCCATAGTGGAGAACAGAGCGCCAAGAAAGCAAGGCTGGTCACTGTTCTGCCACATAATTGAATGAGGGGTGAATAGCGCGGACCCGGCTGAGCAGTAACTGAGTGCGCGGCACCAAGACGCCAAATTACCCAATACCAAGCTGCTAATGCAGACGACAACCCCCTCCGTTACGCGGCTAAAGTGAGGTTGTCAGAAAACGTAATTCTCAATACCCTACCGACTTGGCTACGTA\n"
     ]
    }
   ],
   "source": [
    "import numpy as np\n",
    "keyBase = {'A':0, 'C':1, 'G':2, 'T':3}\n",
    "baseKey = {0:'A', 1:'C', 2:'G', 3:'T'}\n",
    "\n",
    "with open(\"./dataFiles/rosalind_cons.txt\") as inFile:\n",
    "    data = inFile.readlines()\n",
    "    i = 0\n",
    "    seqs = []\n",
    "    while i < len(data):\n",
    "        if data[i][0] == '>':\n",
    "            if (i != 0):\n",
    "                seqs.append(temp)\n",
    "            temp = ''\n",
    "            seqs.append(data[i].rstrip())\n",
    "        else:\n",
    "            temp += data[i].rstrip()\n",
    "        if i == len(data) - 1:\n",
    "            seqs.append(temp)\n",
    "        i += 1\n",
    "        \n",
    "    seqLen = len(seqs[1])\n",
    "    profile = np.zeros((4,seqLen))\n",
    "    for seq in seqs[1::2]:\n",
    "        if len(seq) == seqLen:\n",
    "            for i, base in enumerate(seq):\n",
    "                profile[keyBase[base]][i] += 1\n",
    "    res = ''\n",
    "    for i in range(seqLen):\n",
    "        temp = profile[:,i]\n",
    "        res += baseKey[np.argmax(temp)]\n",
    "    print(res)\n",
    "    #print(profile)\n",
    "        "
   ]
  },
  {
   "cell_type": "markdown",
   "metadata": {},
   "source": [
    "### Open Reading Frames\n",
    "\n",
    "Either strand of a DNA double helix can serve as the coding strand for RNA transcription. Hence, a given DNA string implies six total reading frames, or ways in which the same region of DNA can be translated into amino acids: three reading frames result from reading the string itself, whereas three more result from reading its reverse complement.\n",
    "\n",
    "An open reading frame (ORF) is one which starts from the start codon and ends by stop codon, without any other stop codons in between. Thus, a candidate protein string is derived by translating an open reading frame into amino acids until a stop codon is reached.\n",
    "\n",
    "Given: A DNA string s of length at most 1 kbp in FASTA format.\n",
    "\n",
    "Return: Every distinct candidate protein string that can be translated from ORFs of s. Strings can be returned in any order"
   ]
  },
  {
   "cell_type": "code",
   "execution_count": 37,
   "metadata": {
    "scrolled": true
   },
   "outputs": [
    {
     "name": "stdout",
     "output_type": "stream",
     "text": [
      "M\n",
      "MR\n",
      "MSCLSRWDTFTLPQRPLVFEITFCPRGKRRKVPLKSWSYTGFGRVPDIVGAHHDETSYSQPLTS\n",
      "MLHL\n",
      "MPPCSVAVKCAEWTGSCPGLRND\n",
      "MCPSATGRTSLPQGISSGGLLCSTGL\n",
      "MFF\n",
      "MDQSQLSAIRRRPSQIYS\n",
      "MCPLEWIAHLL\n",
      "MRQAIANP\n",
      "MACAVLQIVGSDPSILINHSATQDTNLSIQRISLRQNTAACSFNRRCSKVITTLNYGQRIAWAIHSSGHILS\n",
      "MDRFVSWVAE\n",
      "MDGSEPTICNTAQAIADL\n",
      "MAAIPINLS\n",
      "MVRESHGRSTLADTFLAKNVSARVDRPSLISSSRLSEG\n",
      "MCPLEWIAHAIL\n",
      "MTKFAVRGRCRNLEKLLIP\n",
      "MGDPL\n",
      "MSGTLPNPVYDQDFSGTFRRFPRGQKVISKTKGR\n",
      "MRFSDHSLK\n",
      "MINQNGWIRANYLQYGAGHRRFIAKELKVFRDSYISREQRTLSFRLNLASS\n"
     ]
    }
   ],
   "source": [
    "with open('./dataFiles/dnaToAmino.txt') as rnaData, open(\"./dataFiles/rosalind_orf.txt\") as orfData:\n",
    "    data = rnaData.readlines()\n",
    "    dnaCodon = {}\n",
    "    for lines in data:\n",
    "        lines = lines.rstrip().split('   ')\n",
    "        for cod in lines:\n",
    "            if cod != '':\n",
    "                dnaCodon[cod[:3]] = cod[4:]\n",
    "    data = orfData.readlines()\n",
    "    seq = ''\n",
    "    for i in range(1, len(data)):\n",
    "        seq += data[i].strip()\n",
    "\n",
    "def genORFs(seq):\n",
    "    readFrames = []\n",
    "    for i, base in enumerate(seq):\n",
    "        if seq[i:i+3] == 'ATG':\n",
    "            orf = ''\n",
    "            while i < len(seq) - 3:\n",
    "                if dnaCodon[seq[i:i+3]] == 'Stop':\n",
    "                    readFrames.append(orf)\n",
    "                    break\n",
    "                orf += dnaCodon[seq[i:i+3]]\n",
    "                i += 3\n",
    "    return (readFrames)\n",
    "\n",
    "readFrames = set()\n",
    "revComp = ''\n",
    "for base in seq[::-1]:\n",
    "    revComp += baseComp[base]\n",
    "for sets in (genORFs(seq), genORFs(revComp)):\n",
    "    for orf in sets:\n",
    "        readFrames.add(orf)\n",
    "for orf in readFrames:\n",
    "    print(orf)"
   ]
  },
  {
   "cell_type": "markdown",
   "metadata": {},
   "source": [
    "### Inferring mRNA from Protein"
   ]
  },
  {
   "cell_type": "code",
   "execution_count": 11,
   "metadata": {},
   "outputs": [
    {
     "name": "stdout",
     "output_type": "stream",
     "text": [
      "225216\n"
     ]
    }
   ],
   "source": [
    "with open(\"./dataFiles/rosalind_mrna.txt\") as inFile:\n",
    "    data = inFile.readlines()\n",
    "    prot = data[0].strip()\n",
    "# prot = \"MA\"\n",
    "codToRna = {}\n",
    "for key in codon:\n",
    "    if codon[key] not in codToRna:\n",
    "        codToRna[codon[key]] = [key]\n",
    "    else:\n",
    "        codToRna[codon[key]].append(key)\n",
    "test = 0\n",
    "for aa in prot:\n",
    "    if test == 0:\n",
    "        test += len(codToRna[aa])\n",
    "    else:\n",
    "        test *= len(codToRna[aa])\n",
    "test *= len(codToRna['Stop'])\n",
    "test %= 1000000\n",
    "print(test)"
   ]
  },
  {
   "cell_type": "markdown",
   "metadata": {},
   "source": []
  }
 ],
 "metadata": {
  "kernelspec": {
   "display_name": "Python 3",
   "language": "python",
   "name": "python3"
  },
  "language_info": {
   "codemirror_mode": {
    "name": "ipython",
    "version": 3
   },
   "file_extension": ".py",
   "mimetype": "text/x-python",
   "name": "python",
   "nbconvert_exporter": "python",
   "pygments_lexer": "ipython3",
   "version": "3.7.6"
  }
 },
 "nbformat": 4,
 "nbformat_minor": 4
}
